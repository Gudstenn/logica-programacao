{
  "nbformat": 4,
  "nbformat_minor": 0,
  "metadata": {
    "colab": {
      "provenance": []
    },
    "kernelspec": {
      "name": "python3",
      "display_name": "Python 3"
    },
    "language_info": {
      "name": "python"
    }
  },
  "cells": [
    {
      "cell_type": "code",
      "execution_count": 23,
      "metadata": {
        "colab": {
          "base_uri": "https://localhost:8080/",
          "height": 495
        },
        "id": "jKdFfyaN6d-1",
        "outputId": "24cb5d65-48a0-4d91-e995-6df7b2d59a15"
      },
      "outputs": [
        {
          "output_type": "stream",
          "name": "stdout",
          "text": [
            "Jogador X, faça seu movimento (linha coluna): 0 0\n",
            " 0 1 2\n",
            "0 X    \n",
            " --+--+--\n",
            "1      \n",
            " --+--+--\n",
            "2      \n",
            " --+--+--\n"
          ]
        },
        {
          "output_type": "error",
          "ename": "KeyboardInterrupt",
          "evalue": "Interrupted by user",
          "traceback": [
            "\u001b[0;31m---------------------------------------------------------------------------\u001b[0m",
            "\u001b[0;31mKeyboardInterrupt\u001b[0m                         Traceback (most recent call last)",
            "\u001b[0;32m<ipython-input-23-afb21ee27736>\u001b[0m in \u001b[0;36m<cell line: 0>\u001b[0;34m()\u001b[0m\n\u001b[1;32m     55\u001b[0m \u001b[0;32mwhile\u001b[0m \u001b[0;32mTrue\u001b[0m\u001b[0;34m:\u001b[0m\u001b[0;34m\u001b[0m\u001b[0;34m\u001b[0m\u001b[0m\n\u001b[1;32m     56\u001b[0m \u001b[0;34m\u001b[0m\u001b[0m\n\u001b[0;32m---> 57\u001b[0;31m   \u001b[0mmovimento\u001b[0m \u001b[0;34m=\u001b[0m \u001b[0minput\u001b[0m\u001b[0;34m(\u001b[0m\u001b[0;34m\"Jogador \"\u001b[0m \u001b[0;34m+\u001b[0m \u001b[0mjogadores\u001b[0m\u001b[0;34m[\u001b[0m\u001b[0mjogador_atual\u001b[0m\u001b[0;34m]\u001b[0m \u001b[0;34m+\u001b[0m \u001b[0;34m\", faça seu movimento (linha coluna): \"\u001b[0m\u001b[0;34m)\u001b[0m\u001b[0;34m\u001b[0m\u001b[0;34m\u001b[0m\u001b[0m\n\u001b[0m\u001b[1;32m     58\u001b[0m   \u001b[0mmovimento\u001b[0m \u001b[0;34m=\u001b[0m \u001b[0mmovimento\u001b[0m\u001b[0;34m.\u001b[0m\u001b[0msplit\u001b[0m\u001b[0;34m(\u001b[0m\u001b[0;34m)\u001b[0m\u001b[0;34m\u001b[0m\u001b[0;34m\u001b[0m\u001b[0m\n\u001b[1;32m     59\u001b[0m   \u001b[0mlinha\u001b[0m \u001b[0;34m=\u001b[0m \u001b[0mint\u001b[0m\u001b[0;34m(\u001b[0m\u001b[0mmovimento\u001b[0m\u001b[0;34m[\u001b[0m\u001b[0;36m0\u001b[0m\u001b[0;34m]\u001b[0m\u001b[0;34m)\u001b[0m\u001b[0;34m\u001b[0m\u001b[0;34m\u001b[0m\u001b[0m\n",
            "\u001b[0;32m/usr/local/lib/python3.11/dist-packages/ipykernel/kernelbase.py\u001b[0m in \u001b[0;36mraw_input\u001b[0;34m(self, prompt)\u001b[0m\n\u001b[1;32m   1175\u001b[0m                 \u001b[0;34m\"raw_input was called, but this frontend does not support input requests.\"\u001b[0m\u001b[0;34m\u001b[0m\u001b[0;34m\u001b[0m\u001b[0m\n\u001b[1;32m   1176\u001b[0m             )\n\u001b[0;32m-> 1177\u001b[0;31m         return self._input_request(\n\u001b[0m\u001b[1;32m   1178\u001b[0m             \u001b[0mstr\u001b[0m\u001b[0;34m(\u001b[0m\u001b[0mprompt\u001b[0m\u001b[0;34m)\u001b[0m\u001b[0;34m,\u001b[0m\u001b[0;34m\u001b[0m\u001b[0;34m\u001b[0m\u001b[0m\n\u001b[1;32m   1179\u001b[0m             \u001b[0mself\u001b[0m\u001b[0;34m.\u001b[0m\u001b[0m_parent_ident\u001b[0m\u001b[0;34m[\u001b[0m\u001b[0;34m\"shell\"\u001b[0m\u001b[0;34m]\u001b[0m\u001b[0;34m,\u001b[0m\u001b[0;34m\u001b[0m\u001b[0;34m\u001b[0m\u001b[0m\n",
            "\u001b[0;32m/usr/local/lib/python3.11/dist-packages/ipykernel/kernelbase.py\u001b[0m in \u001b[0;36m_input_request\u001b[0;34m(self, prompt, ident, parent, password)\u001b[0m\n\u001b[1;32m   1217\u001b[0m             \u001b[0;32mexcept\u001b[0m \u001b[0mKeyboardInterrupt\u001b[0m\u001b[0;34m:\u001b[0m\u001b[0;34m\u001b[0m\u001b[0;34m\u001b[0m\u001b[0m\n\u001b[1;32m   1218\u001b[0m                 \u001b[0;31m# re-raise KeyboardInterrupt, to truncate traceback\u001b[0m\u001b[0;34m\u001b[0m\u001b[0;34m\u001b[0m\u001b[0m\n\u001b[0;32m-> 1219\u001b[0;31m                 \u001b[0;32mraise\u001b[0m \u001b[0mKeyboardInterrupt\u001b[0m\u001b[0;34m(\u001b[0m\u001b[0;34m\"Interrupted by user\"\u001b[0m\u001b[0;34m)\u001b[0m \u001b[0;32mfrom\u001b[0m \u001b[0;32mNone\u001b[0m\u001b[0;34m\u001b[0m\u001b[0;34m\u001b[0m\u001b[0m\n\u001b[0m\u001b[1;32m   1220\u001b[0m             \u001b[0;32mexcept\u001b[0m \u001b[0mException\u001b[0m\u001b[0;34m:\u001b[0m\u001b[0;34m\u001b[0m\u001b[0;34m\u001b[0m\u001b[0m\n\u001b[1;32m   1221\u001b[0m                 \u001b[0mself\u001b[0m\u001b[0;34m.\u001b[0m\u001b[0mlog\u001b[0m\u001b[0;34m.\u001b[0m\u001b[0mwarning\u001b[0m\u001b[0;34m(\u001b[0m\u001b[0;34m\"Invalid Message:\"\u001b[0m\u001b[0;34m,\u001b[0m \u001b[0mexc_info\u001b[0m\u001b[0;34m=\u001b[0m\u001b[0;32mTrue\u001b[0m\u001b[0;34m)\u001b[0m\u001b[0;34m\u001b[0m\u001b[0;34m\u001b[0m\u001b[0m\n",
            "\u001b[0;31mKeyboardInterrupt\u001b[0m: Interrupted by user"
          ]
        }
      ],
      "source": [
        "#Vamos inicializar o tabuleiro\n",
        "board = [\n",
        "    [\" \", \" \", \" \"],\n",
        "    [\" \", \" \", \" \"],\n",
        "    [\" \", \" \", \" \"]\n",
        "]\n",
        "\n",
        "# Aqui vamos definir a função para mostrar na tela o tabuleiro\n",
        "def print_tabuleiro():\n",
        "  print(\" 0 1 2\")\n",
        "  print(\"0 \"+board[0][0] + \" \" + board[0][1] + \" \" + board[0][2])\n",
        "  print(\" --+--+--\")\n",
        "  print(\"1 \"+board[1][0] + \" \" + board[1][1] + \" \" + board[1][2])\n",
        "  print(\" --+--+--\")\n",
        "  print(\"2 \"+board[2][0] + \" \" + board[2][1] + \" \" + board[2][2])\n",
        "  print(\" --+--+--\")\n",
        "\n",
        "# Aqui a função que vai checkar se o jogador ganhou\n",
        "def check_vencedor(jogador):\n",
        "  #Checkando a fileira\n",
        "  for i in range(3):\n",
        "    if board[i][0] == jogador and board[i][1] == jogador and board[i][2] == jogador:\n",
        "      return True\n",
        "  #Checkando as colunas\n",
        "  for i in range(3):\n",
        "    if board[0][i] == jogador and board[1][i] == jogador and board[2][i] == jogador:\n",
        "      return True\n",
        "  #Checkando a diagonal\n",
        "  if board[0][0] == jogador and board[1][1] == jogador and board[2][2] == jogador:\n",
        "    return True\n",
        "  #Checkando a outra diagonal\n",
        "  if board[2][0] == jogador and board[1][1] == jogador and board[2][0] == jogador:\n",
        "    return True\n",
        "\n",
        "  #Sem vencedores\n",
        "  return False\n",
        "\n",
        "# Função para verificar se o tabuleiro está completo\n",
        "\n",
        "def check_cheio():\n",
        "  for linha in board:\n",
        "    for casa in linha:\n",
        "      if casa == \" \":\n",
        "        return False\n",
        "  return True\n",
        "\n",
        "\n",
        "#Definindo os jogadores\n",
        "\n",
        "jogadores = [\"X\", \"O\"]\n",
        "jogador_atual = 0\n",
        "\n",
        "#Mostrando o tabuleiro vazio\n",
        "\n",
        "print_tabuleiro()\n",
        "\n",
        "\n",
        "#Definindo o loop do jogo\n",
        "while True:\n",
        "\n",
        "  #Recebendo o movimento do jogador\n",
        "  movimento = input(\"Jogador \" + jogadores[jogador_atual] + \", faça seu movimento (linha coluna): \")\n",
        "  movimento = movimento.split()\n",
        "  linha = int(movimento[0])\n",
        "  coluna = int(movimento[1])\n",
        "\n",
        "\n",
        "  #Check se o movimento é válido\n",
        "  if board[linha][coluna] != \" \":\n",
        "    print(\"Movimento Inválido.\")\n",
        "    continue\n",
        "\n",
        "  #Marque o movimento\n",
        "  board[linha][coluna] = jogadores[jogador_atual]\n",
        "\n",
        "  print_tabuleiro()\n",
        "\n",
        "  #Checar se o jogador venceu\n",
        "  if check_vencedor(jogadores[jogador_atual]):\n",
        "    print(\"Jogador \"+jogadores[jogador_atual]+\" venceu!\")\n",
        "    break\n",
        "\n",
        "  #Checar se o tabuleiro está cheio\n",
        "  if check_cheio():\n",
        "    print(\"Empate!\")\n",
        "    break\n",
        "\n",
        "  #Trocando o jogador\n",
        "\n",
        "  jogador_atual = (jogador_atual+1) % 2"
      ]
    }
  ]
}