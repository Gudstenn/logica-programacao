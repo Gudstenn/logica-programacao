{
  "nbformat": 4,
  "nbformat_minor": 0,
  "metadata": {
    "colab": {
      "provenance": [],
      "toc_visible": true
    },
    "kernelspec": {
      "name": "python3",
      "display_name": "Python 3"
    },
    "language_info": {
      "name": "python"
    }
  },
  "cells": [
    {
      "cell_type": "markdown",
      "source": [
        "#Documentação\n",
        "\n",
        "##Subtítulo"
      ],
      "metadata": {
        "id": "QbvZbu7UmF2i"
      }
    },
    {
      "cell_type": "markdown",
      "source": [
        "# Operadores Relacionais"
      ],
      "metadata": {
        "id": "zOKh9GeipOc6"
      }
    },
    {
      "cell_type": "code",
      "source": [
        "# Menor\n",
        "10 < 2"
      ],
      "metadata": {
        "colab": {
          "base_uri": "https://localhost:8080/"
        },
        "id": "VaQSlTiYpfDO",
        "outputId": "ef79e548-2158-45ef-950d-b113a5e65d1a"
      },
      "execution_count": null,
      "outputs": [
        {
          "output_type": "execute_result",
          "data": {
            "text/plain": [
              "False"
            ]
          },
          "metadata": {},
          "execution_count": 18
        }
      ]
    },
    {
      "cell_type": "code",
      "source": [
        "# Menor ou igual\n",
        "10 <= 2"
      ],
      "metadata": {
        "colab": {
          "base_uri": "https://localhost:8080/"
        },
        "id": "Un7NujaipiWC",
        "outputId": "f5e7b6b2-ee9b-4b11-dedd-50e50fdb2c0a"
      },
      "execution_count": null,
      "outputs": [
        {
          "output_type": "execute_result",
          "data": {
            "text/plain": [
              "False"
            ]
          },
          "metadata": {},
          "execution_count": 19
        }
      ]
    },
    {
      "cell_type": "code",
      "source": [
        "# Maior\n",
        "\n",
        "10 > 2"
      ],
      "metadata": {
        "colab": {
          "base_uri": "https://localhost:8080/"
        },
        "id": "oEB59s5Xpms_",
        "outputId": "46731610-0407-40e7-d8fc-5b783bf97b9c"
      },
      "execution_count": null,
      "outputs": [
        {
          "output_type": "execute_result",
          "data": {
            "text/plain": [
              "True"
            ]
          },
          "metadata": {},
          "execution_count": 20
        }
      ]
    },
    {
      "cell_type": "code",
      "source": [
        "# Maior ou igual\n",
        "10 >= 2"
      ],
      "metadata": {
        "colab": {
          "base_uri": "https://localhost:8080/"
        },
        "id": "sLRIZ-GgpqJ_",
        "outputId": "4cd87996-2109-490c-b522-ceef94a04aca"
      },
      "execution_count": null,
      "outputs": [
        {
          "output_type": "execute_result",
          "data": {
            "text/plain": [
              "True"
            ]
          },
          "metadata": {},
          "execution_count": 21
        }
      ]
    },
    {
      "cell_type": "code",
      "source": [
        "# Igual\n",
        "7 == 7"
      ],
      "metadata": {
        "colab": {
          "base_uri": "https://localhost:8080/"
        },
        "id": "Z2UTAsP2pthX",
        "outputId": "b18371fd-e4e8-4780-fedd-5e0f536a5d4a"
      },
      "execution_count": null,
      "outputs": [
        {
          "output_type": "execute_result",
          "data": {
            "text/plain": [
              "True"
            ]
          },
          "metadata": {},
          "execution_count": 22
        }
      ]
    },
    {
      "cell_type": "code",
      "source": [
        "# Diferente\n",
        "7 != 7"
      ],
      "metadata": {
        "colab": {
          "base_uri": "https://localhost:8080/"
        },
        "id": "EzBaeELLpxSN",
        "outputId": "034fb078-4521-4116-82b8-9cfd5827d789"
      },
      "execution_count": null,
      "outputs": [
        {
          "output_type": "execute_result",
          "data": {
            "text/plain": [
              "False"
            ]
          },
          "metadata": {},
          "execution_count": 23
        }
      ]
    },
    {
      "cell_type": "markdown",
      "source": [
        "#Operadores Lógicos"
      ],
      "metadata": {
        "id": "GcYAveUFp1rH"
      }
    },
    {
      "cell_type": "markdown",
      "source": [
        "\n",
        "\n",
        "*   And\n",
        "*   Or\n",
        "*   Not\n",
        "\n",
        "\n"
      ],
      "metadata": {
        "id": "3pRK2v-Gp7AS"
      }
    },
    {
      "cell_type": "markdown",
      "source": [
        "##Tabela Verdade\n",
        "\n",
        "And"
      ],
      "metadata": {
        "id": "k6IEYmLtqF_z"
      }
    },
    {
      "cell_type": "code",
      "source": [
        "print(10 > 2 and 4 < 6)   # V and V - V\n",
        "print(10 > 2 and 4 > 6)   # V and F = F\n",
        "print(10 < 2 and 4 < 6)   # V and F = F\n",
        "print(10 < 2 and 4 > 6)   # F and F - F\n"
      ],
      "metadata": {
        "colab": {
          "base_uri": "https://localhost:8080/"
        },
        "id": "AYQtvk2UqM0F",
        "outputId": "9dfb5849-a401-4ba4-f32c-dfde05633883"
      },
      "execution_count": null,
      "outputs": [
        {
          "output_type": "stream",
          "name": "stdout",
          "text": [
            "True\n",
            "False\n",
            "False\n",
            "False\n"
          ]
        }
      ]
    },
    {
      "cell_type": "markdown",
      "source": [
        "Or"
      ],
      "metadata": {
        "id": "BpQl21RnqtqZ"
      }
    },
    {
      "cell_type": "code",
      "source": [
        "print(10 > 2 or 4 < 6)   # V and V - V\n",
        "print(10 > 2 or 4 > 6)   # V and F = V\n",
        "print(10 < 2 or 4 < 6)   # V and F = V\n",
        "print(10 < 2 or 4 > 6)   # F and F - F"
      ],
      "metadata": {
        "id": "HgwzCYiwqu9p"
      },
      "execution_count": null,
      "outputs": []
    },
    {
      "cell_type": "markdown",
      "source": [
        "Not"
      ],
      "metadata": {
        "id": "d2P9b5g_q2p6"
      }
    },
    {
      "cell_type": "code",
      "source": [
        "not 10 > 2    # V - F"
      ],
      "metadata": {
        "colab": {
          "base_uri": "https://localhost:8080/"
        },
        "id": "0sfyxpTKq36y",
        "outputId": "cf3887b1-d7da-4749-c931-782a471797bb"
      },
      "execution_count": null,
      "outputs": [
        {
          "output_type": "execute_result",
          "data": {
            "text/plain": [
              "False"
            ]
          },
          "metadata": {},
          "execution_count": 25
        }
      ]
    },
    {
      "cell_type": "code",
      "source": [
        "not 10 < 2    # F - V"
      ],
      "metadata": {
        "colab": {
          "base_uri": "https://localhost:8080/"
        },
        "id": "9avfQlFEq9Ku",
        "outputId": "9ede36b2-9d50-445e-9c7a-efb80a831300"
      },
      "execution_count": null,
      "outputs": [
        {
          "output_type": "execute_result",
          "data": {
            "text/plain": [
              "True"
            ]
          },
          "metadata": {},
          "execution_count": 26
        }
      ]
    },
    {
      "cell_type": "markdown",
      "source": [
        "##Variáveis\n",
        "\n",
        "Variáveis estão alocadas em espaços na memória"
      ],
      "metadata": {
        "id": "K3sgb6wVrCGL"
      }
    },
    {
      "cell_type": "code",
      "source": [
        "#Nome da variável é \"x\" que armazena o valor 10 em um espaço na memória\n",
        "x = 10\n",
        "\n",
        "print(x) # Utilizar a referência no nome atribuido"
      ],
      "metadata": {
        "id": "z3kVlZ8erKI9"
      },
      "execution_count": null,
      "outputs": []
    },
    {
      "cell_type": "markdown",
      "source": [
        "##Regras"
      ],
      "metadata": {
        "id": "rggsGD1uHkMc"
      }
    },
    {
      "cell_type": "markdown",
      "source": [
        "**Case Sensitive**\n",
        "\n",
        "A != a\n",
        "\n",
        "**Boas Práticas com Variáveis**\n",
        "\n",
        "> Exemplo: Multiplicação de 2 números\n",
        "\n",
        "Não usar\n",
        "\n",
        "* Multiplicação\n",
        "* MultiplicacaoDeDoisNumeros\n",
        "* m\n",
        "\n",
        "Usar\n",
        "* multiplicacao\n",
        "* mult\n",
        "* mult_total(snake_case)\n",
        "\n",
        "Tipos de Variáveis\n",
        "\n",
        "> Python é uma linguagem de alto nível\n",
        "* Não é necessário especificar o tipo de dados quando declarar a variável\n",
        "* Python defini o tipo de dados na declaração\n"
      ],
      "metadata": {
        "id": "KtFGXOT4HpQN"
      }
    },
    {
      "cell_type": "markdown",
      "source": [
        "# Visualização de Variáveis e textos"
      ],
      "metadata": {
        "id": "1vAN62gXKsVH"
      }
    },
    {
      "cell_type": "code",
      "source": [
        "print('Conhecendo o comando Print')\n",
        "\n",
        "x = 8\n",
        "print(x)"
      ],
      "metadata": {
        "colab": {
          "base_uri": "https://localhost:8080/"
        },
        "id": "jcfNhuf2Kw9o",
        "outputId": "600e9e70-8b94-40f4-a848-5c8a0d191b16"
      },
      "execution_count": null,
      "outputs": [
        {
          "output_type": "stream",
          "name": "stdout",
          "text": [
            "Conhecendo o comando Print\n",
            "8\n"
          ]
        }
      ]
    },
    {
      "cell_type": "code",
      "source": [
        "y = 10\n",
        "soma = x + y\n",
        "print(soma)"
      ],
      "metadata": {
        "colab": {
          "base_uri": "https://localhost:8080/"
        },
        "id": "7M6wh6VXK3-l",
        "outputId": "4d5172cc-8cf1-46d4-baad-c5e104df5dd5"
      },
      "execution_count": null,
      "outputs": [
        {
          "output_type": "stream",
          "name": "stdout",
          "text": [
            "18\n"
          ]
        }
      ]
    },
    {
      "cell_type": "code",
      "source": [
        "nome = 'Rodrigo Rebouças'\n",
        "print(nome)"
      ],
      "metadata": {
        "colab": {
          "base_uri": "https://localhost:8080/"
        },
        "id": "R27HSTwgK99S",
        "outputId": "eae893de-8f59-4c14-a731-cd8fa5b6299a"
      },
      "execution_count": null,
      "outputs": [
        {
          "output_type": "stream",
          "name": "stdout",
          "text": [
            "Rodrigo Rebouças\n"
          ]
        }
      ]
    },
    {
      "cell_type": "markdown",
      "source": [
        "## Concatenação"
      ],
      "metadata": {
        "id": "1gVVLnPKLCfO"
      }
    },
    {
      "cell_type": "code",
      "source": [
        "x = 5\n",
        "print('O valor de x é', x)"
      ],
      "metadata": {
        "colab": {
          "base_uri": "https://localhost:8080/"
        },
        "id": "WIrzZdaOLI5i",
        "outputId": "6b77f765-c8b9-4212-ca68-b0fea6daaa70"
      },
      "execution_count": null,
      "outputs": [
        {
          "output_type": "stream",
          "name": "stdout",
          "text": [
            "O valor de x é 5\n"
          ]
        }
      ]
    },
    {
      "cell_type": "code",
      "source": [
        "print('O valor de x é', x, 'e o dobro é', x * 2)"
      ],
      "metadata": {
        "colab": {
          "base_uri": "https://localhost:8080/"
        },
        "id": "PB-PCtwDLOCT",
        "outputId": "e330450e-a631-4c30-c672-8417c512f9ed"
      },
      "execution_count": null,
      "outputs": [
        {
          "output_type": "stream",
          "name": "stdout",
          "text": [
            "O valor de x é 5 e o dobro é 10\n"
          ]
        }
      ]
    },
    {
      "cell_type": "code",
      "source": [
        "print('Eu, ', nome, ' tirei', x, 'na prova de Python')"
      ],
      "metadata": {
        "id": "P4aUfxmjL5uZ"
      },
      "execution_count": null,
      "outputs": []
    },
    {
      "cell_type": "code",
      "source": [
        "y = 10; z = 20 + x - y\n",
        "\n",
        "print('Declarar várias variáveis na mesma linha:', y, z)"
      ],
      "metadata": {
        "colab": {
          "base_uri": "https://localhost:8080/"
        },
        "id": "_vdHZAbwLUm4",
        "outputId": "bda4c407-27e5-4145-aa43-401fde016df9"
      },
      "execution_count": null,
      "outputs": [
        {
          "output_type": "stream",
          "name": "stdout",
          "text": [
            "Declarar várias variáveis na mesma linha: 10 15\n"
          ]
        }
      ]
    },
    {
      "cell_type": "markdown",
      "source": [
        "## Type"
      ],
      "metadata": {
        "id": "YhsBpp00LoNH"
      }
    },
    {
      "cell_type": "code",
      "source": [
        "x = 10\n",
        "type(x)\n",
        "print('x', type(x))\n",
        "\n",
        "nome = 'Rodrigo'\n",
        "print('nome', type(nome))\n",
        "\n",
        "num = '100'\n",
        "num_convert = int(num) # Converter variável\n",
        "print('num', type(num))\n",
        "print('num_convert', type(num_convert))\n",
        "\n",
        "num_float = float(num)\n",
        "print('num_float', num_float)"
      ],
      "metadata": {
        "colab": {
          "base_uri": "https://localhost:8080/"
        },
        "id": "aYQsygGFLs70",
        "outputId": "16c00c21-1485-410a-e887-78e3cc0c2c59"
      },
      "execution_count": null,
      "outputs": [
        {
          "output_type": "stream",
          "name": "stdout",
          "text": [
            "x <class 'int'>\n",
            "nome <class 'str'>\n",
            "num <class 'str'>\n",
            "num_convert <class 'int'>\n",
            "num_float 100.0\n"
          ]
        }
      ]
    },
    {
      "cell_type": "markdown",
      "source": [
        "## Input\n",
        "\n",
        "* Armazenar a informação digitada pelo usuário em uma variável\n",
        "* O dado armazenado sempre será um texto"
      ],
      "metadata": {
        "id": "ZY0gsb6ENxEo"
      }
    },
    {
      "cell_type": "code",
      "source": [
        "nome = input(\"Digite o nome do usuário \") # Aguarda o usuário digitar algo\n",
        "print(nome)"
      ],
      "metadata": {
        "colab": {
          "base_uri": "https://localhost:8080/"
        },
        "id": "cFAim33XN5t2",
        "outputId": "b1071111-01d5-43eb-fe5e-2399735fcef4"
      },
      "execution_count": null,
      "outputs": [
        {
          "output_type": "stream",
          "name": "stdout",
          "text": [
            "Digite o nome do usuário Diego\n",
            "Diego\n"
          ]
        }
      ]
    },
    {
      "cell_type": "code",
      "source": [
        "valor = input('Digite a nota ')\n",
        "\n",
        "print(nome, 'sua nota foi', valor)"
      ],
      "metadata": {
        "colab": {
          "base_uri": "https://localhost:8080/"
        },
        "id": "G4E2EMO2OEU5",
        "outputId": "38c9eee8-4733-4b02-d97d-d549a61f2d71"
      },
      "execution_count": null,
      "outputs": [
        {
          "output_type": "stream",
          "name": "stdout",
          "text": [
            "Digite a nota 7.5\n",
            "Diego sua nota foi 7.5\n"
          ]
        }
      ]
    },
    {
      "cell_type": "code",
      "source": [
        "valor = input('Digite o valor do produto')\n",
        "print(valor)"
      ],
      "metadata": {
        "colab": {
          "base_uri": "https://localhost:8080/"
        },
        "id": "gNP74QtXOQFm",
        "outputId": "74e9e160-9b65-4830-8de9-3fe5e5071090"
      },
      "execution_count": null,
      "outputs": [
        {
          "output_type": "stream",
          "name": "stdout",
          "text": [
            "Digite o valor do produto10\n",
            "10\n"
          ]
        }
      ]
    },
    {
      "cell_type": "code",
      "source": [
        "desconto = int(valor) - 5\n",
        "print(desconto)"
      ],
      "metadata": {
        "colab": {
          "base_uri": "https://localhost:8080/"
        },
        "id": "cTmp80aYOyaV",
        "outputId": "396bafd1-31c0-4ca0-a468-dce7b0f98dbd"
      },
      "execution_count": null,
      "outputs": [
        {
          "output_type": "stream",
          "name": "stdout",
          "text": [
            "5\n"
          ]
        }
      ]
    },
    {
      "cell_type": "code",
      "source": [
        "valor_convert = int(valor)\n",
        "desconto = valor_convert - 5\n",
        "print(desconto)"
      ],
      "metadata": {
        "colab": {
          "base_uri": "https://localhost:8080/"
        },
        "id": "DwqTG-GPO2Ag",
        "outputId": "201c42bd-419c-4f60-c459-f20d26abfb42"
      },
      "execution_count": null,
      "outputs": [
        {
          "output_type": "stream",
          "name": "stdout",
          "text": [
            "5\n"
          ]
        }
      ]
    },
    {
      "cell_type": "code",
      "source": [
        "print(f\"Olá, {nome} , tudo bem?\")"
      ],
      "metadata": {
        "colab": {
          "base_uri": "https://localhost:8080/"
        },
        "id": "Wl1zWpyNPqsR",
        "outputId": "baeef420-1650-4a53-d031-0695f08de055"
      },
      "execution_count": null,
      "outputs": [
        {
          "output_type": "stream",
          "name": "stdout",
          "text": [
            "Olá, Diego , tudo bem?\n"
          ]
        }
      ]
    },
    {
      "cell_type": "markdown",
      "source": [
        "# Condicional"
      ],
      "metadata": {
        "id": "Hvsvwkr6QY5Q"
      }
    },
    {
      "cell_type": "code",
      "source": [
        "# If\n",
        "\n",
        "if 5 < 10:\n",
        "  print('Verdade')"
      ],
      "metadata": {
        "colab": {
          "base_uri": "https://localhost:8080/"
        },
        "id": "bDHDaFW0QbDt",
        "outputId": "4e6176f5-a2ae-497e-b994-d21b56c4c0bf"
      },
      "execution_count": null,
      "outputs": [
        {
          "output_type": "stream",
          "name": "stdout",
          "text": [
            "Verdade\n"
          ]
        }
      ]
    },
    {
      "cell_type": "code",
      "source": [
        "# If/Else\n",
        "num1 = 10\n",
        "num2 = 10\n",
        "\n",
        "if num1 > num2:\n",
        "  print('O num1 é o maior número')\n",
        "else:\n",
        "  print('O num2 é o maior número')"
      ],
      "metadata": {
        "colab": {
          "base_uri": "https://localhost:8080/"
        },
        "id": "bVJVuNaCQqwi",
        "outputId": "cd97d900-6560-4ce0-bbc4-9d2c4938eb03"
      },
      "execution_count": null,
      "outputs": [
        {
          "output_type": "stream",
          "name": "stdout",
          "text": [
            "O num2 é o maior número\n"
          ]
        }
      ]
    },
    {
      "cell_type": "code",
      "source": [
        "#If / elif / else\n",
        "num1 = 10\n",
        "num2 = 10\n",
        "\n",
        "if num1 > num2:\n",
        "  print('O num1 é o maior número')\n",
        "elif num1 < num2:\n",
        "  print('O num2 é o maior número')\n",
        "else:\n",
        "  print('Os dois são iguais')"
      ],
      "metadata": {
        "colab": {
          "base_uri": "https://localhost:8080/"
        },
        "id": "owM14GMRRGIq",
        "outputId": "bf5382b5-d6f8-4d34-b608-c0680469d53c"
      },
      "execution_count": null,
      "outputs": [
        {
          "output_type": "stream",
          "name": "stdout",
          "text": [
            "Os dois são iguais\n"
          ]
        }
      ]
    },
    {
      "cell_type": "markdown",
      "source": [
        "## Condicional com operadores lógicos"
      ],
      "metadata": {
        "id": "c6YR0nalRgM4"
      }
    },
    {
      "cell_type": "code",
      "source": [
        "num1 = 10\n",
        "num2 = 5\n",
        "num3 = 11\n",
        "\n",
        "if (num1 > num2) and (num1 > num3):\n",
        "  print('O num1 é o maior número')\n",
        "else:\n",
        "  print('O num1 não é o maior número')"
      ],
      "metadata": {
        "colab": {
          "base_uri": "https://localhost:8080/"
        },
        "id": "-L6qRvUVRnUR",
        "outputId": "c7692207-51c0-49fc-869f-97921fa726a5"
      },
      "execution_count": null,
      "outputs": [
        {
          "output_type": "stream",
          "name": "stdout",
          "text": [
            "O num1 não é o maior número\n"
          ]
        }
      ]
    },
    {
      "cell_type": "markdown",
      "source": [
        "# Lista, tuplas e dicionários\n"
      ],
      "metadata": {
        "id": "AeyzAquB5oNP"
      }
    },
    {
      "cell_type": "code",
      "source": [
        "#Lista\n",
        "\n",
        "[1,2,3,4,5]"
      ],
      "metadata": {
        "colab": {
          "base_uri": "https://localhost:8080/"
        },
        "id": "3O31ifp_6Fep",
        "outputId": "7a0a7deb-f0b4-41c8-e861-245464851260"
      },
      "execution_count": null,
      "outputs": [
        {
          "output_type": "execute_result",
          "data": {
            "text/plain": [
              "[1, 2, 3, 4, 5]"
            ]
          },
          "metadata": {},
          "execution_count": 2
        }
      ]
    },
    {
      "cell_type": "code",
      "source": [
        "#Tupla\n",
        "\n",
        "(1,2,3,4,5)"
      ],
      "metadata": {
        "colab": {
          "base_uri": "https://localhost:8080/"
        },
        "id": "7VCm3tJq6OKy",
        "outputId": "5a9947fc-98b8-4641-b430-a1b354cbb280"
      },
      "execution_count": null,
      "outputs": [
        {
          "output_type": "execute_result",
          "data": {
            "text/plain": [
              "(1, 2, 3, 4, 5)"
            ]
          },
          "metadata": {},
          "execution_count": 3
        }
      ]
    },
    {
      "cell_type": "code",
      "source": [
        "#Dicionário\n",
        "{'num1': 1, 'num2': 2}"
      ],
      "metadata": {
        "colab": {
          "base_uri": "https://localhost:8080/"
        },
        "id": "nYD7r3RE6TEN",
        "outputId": "b4fec752-4be6-4e42-a224-f681d445984e"
      },
      "execution_count": null,
      "outputs": [
        {
          "output_type": "execute_result",
          "data": {
            "text/plain": [
              "{'num1': 1, 'num2': 2}"
            ]
          },
          "metadata": {},
          "execution_count": 4
        }
      ]
    },
    {
      "cell_type": "markdown",
      "source": [
        "##Lista"
      ],
      "metadata": {
        "id": "NlyNxQe06lXf"
      }
    },
    {
      "cell_type": "code",
      "source": [
        "lista = [5, 'Rodrigo', 8.9 ]"
      ],
      "metadata": {
        "id": "HLJ23NSf6mZW"
      },
      "execution_count": null,
      "outputs": []
    },
    {
      "cell_type": "code",
      "source": [
        "type(lista)"
      ],
      "metadata": {
        "colab": {
          "base_uri": "https://localhost:8080/"
        },
        "id": "-aluDJGY7IfP",
        "outputId": "73925dc0-fdd1-4a33-8024-09f1f2a97ac3"
      },
      "execution_count": null,
      "outputs": [
        {
          "output_type": "execute_result",
          "data": {
            "text/plain": [
              "list"
            ]
          },
          "metadata": {},
          "execution_count": 6
        }
      ]
    },
    {
      "cell_type": "code",
      "source": [
        "lista.append(\"Augusto\") # Adicionar um elemento na lista"
      ],
      "metadata": {
        "id": "s1D6XiHS7J_5"
      },
      "execution_count": null,
      "outputs": []
    },
    {
      "cell_type": "code",
      "source": [
        "print(lista)\n",
        "print(lista[1])"
      ],
      "metadata": {
        "colab": {
          "base_uri": "https://localhost:8080/"
        },
        "id": "0TuIrb757SJs",
        "outputId": "52efdde5-fc2c-41f8-bad8-b36ce13f7cab"
      },
      "execution_count": null,
      "outputs": [
        {
          "output_type": "stream",
          "name": "stdout",
          "text": [
            "[5, 'Rodrigo', 8.9, 'Augusto']\n",
            "Rodrigo\n"
          ]
        }
      ]
    },
    {
      "cell_type": "markdown",
      "source": [
        "##Tupla"
      ],
      "metadata": {
        "id": "BavtlPph7X3V"
      }
    },
    {
      "cell_type": "code",
      "source": [
        "tupla = (5, 'Rodrigo', 8.9)"
      ],
      "metadata": {
        "id": "cNsF6vX37s3J"
      },
      "execution_count": null,
      "outputs": []
    },
    {
      "cell_type": "code",
      "source": [
        "type(tupla)"
      ],
      "metadata": {
        "colab": {
          "base_uri": "https://localhost:8080/"
        },
        "id": "NzEgwEWV8E_6",
        "outputId": "ce852096-0cca-4fb8-a52c-2dbf6f12ff38"
      },
      "execution_count": null,
      "outputs": [
        {
          "output_type": "execute_result",
          "data": {
            "text/plain": [
              "tuple"
            ]
          },
          "metadata": {},
          "execution_count": 11
        }
      ]
    },
    {
      "cell_type": "code",
      "source": [
        "tupla.append(\"Augusto\")"
      ],
      "metadata": {
        "colab": {
          "base_uri": "https://localhost:8080/",
          "height": 141
        },
        "id": "u8zUQpje8HMg",
        "outputId": "fafd2f51-2f19-4507-e321-a61d644d9016"
      },
      "execution_count": null,
      "outputs": [
        {
          "output_type": "error",
          "ename": "AttributeError",
          "evalue": "'tuple' object has no attribute 'append'",
          "traceback": [
            "\u001b[0;31m---------------------------------------------------------------------------\u001b[0m",
            "\u001b[0;31mAttributeError\u001b[0m                            Traceback (most recent call last)",
            "\u001b[0;32m<ipython-input-12-1bfa411e48f7>\u001b[0m in \u001b[0;36m<cell line: 0>\u001b[0;34m()\u001b[0m\n\u001b[0;32m----> 1\u001b[0;31m \u001b[0mtupla\u001b[0m\u001b[0;34m.\u001b[0m\u001b[0mappend\u001b[0m\u001b[0;34m(\u001b[0m\u001b[0;34m\"Augusto\"\u001b[0m\u001b[0;34m)\u001b[0m\u001b[0;34m\u001b[0m\u001b[0;34m\u001b[0m\u001b[0m\n\u001b[0m",
            "\u001b[0;31mAttributeError\u001b[0m: 'tuple' object has no attribute 'append'"
          ]
        }
      ]
    },
    {
      "cell_type": "code",
      "source": [
        "print(tupla)"
      ],
      "metadata": {
        "colab": {
          "base_uri": "https://localhost:8080/"
        },
        "id": "SUmwYv1_8NaA",
        "outputId": "69c31038-13cf-41f9-8030-5e9b6b32ffdc"
      },
      "execution_count": null,
      "outputs": [
        {
          "output_type": "stream",
          "name": "stdout",
          "text": [
            "(5, 'Rodrigo', 8.9)\n"
          ]
        }
      ]
    },
    {
      "cell_type": "markdown",
      "source": [
        "##Dicionário"
      ],
      "metadata": {
        "id": "AWN1h2vk8VYd"
      }
    },
    {
      "cell_type": "code",
      "source": [
        "dicionario = {'nome': 'Rodrigo', 'cidade': 'São José dos Campos'}"
      ],
      "metadata": {
        "id": "nUK6four8XH2"
      },
      "execution_count": null,
      "outputs": []
    },
    {
      "cell_type": "code",
      "source": [
        "type(dicionario)"
      ],
      "metadata": {
        "colab": {
          "base_uri": "https://localhost:8080/"
        },
        "id": "fMzFVWQD8ksq",
        "outputId": "602f9496-f494-4155-c677-bd0259bc42f4"
      },
      "execution_count": null,
      "outputs": [
        {
          "output_type": "execute_result",
          "data": {
            "text/plain": [
              "dict"
            ]
          },
          "metadata": {},
          "execution_count": 15
        }
      ]
    },
    {
      "cell_type": "code",
      "source": [
        "print(dicionario)"
      ],
      "metadata": {
        "colab": {
          "base_uri": "https://localhost:8080/"
        },
        "id": "oboOyr6H8mIO",
        "outputId": "95eb8903-3847-49a2-aa1f-1deb8fc70bdd"
      },
      "execution_count": null,
      "outputs": [
        {
          "output_type": "stream",
          "name": "stdout",
          "text": [
            "{'nome': 'Rodrigo', 'cidade': 'São José dos Campos'}\n"
          ]
        }
      ]
    },
    {
      "cell_type": "code",
      "source": [
        "print(dicionario[\"nome\"])"
      ],
      "metadata": {
        "colab": {
          "base_uri": "https://localhost:8080/"
        },
        "id": "EyZuGvqd8oqW",
        "outputId": "914c80c2-a58f-4cff-a4fe-689c5626fc49"
      },
      "execution_count": null,
      "outputs": [
        {
          "output_type": "stream",
          "name": "stdout",
          "text": [
            "Rodrigo\n"
          ]
        }
      ]
    },
    {
      "cell_type": "code",
      "source": [
        "dicionario['ultimo_nome'] = 'Rebouças'"
      ],
      "metadata": {
        "id": "qVIzE4KT8tJL"
      },
      "execution_count": null,
      "outputs": []
    },
    {
      "cell_type": "code",
      "source": [
        "print(dicionario)"
      ],
      "metadata": {
        "colab": {
          "base_uri": "https://localhost:8080/"
        },
        "id": "RKq3VU928yaa",
        "outputId": "11480345-a4ea-4a29-a082-d3e2cdb40577"
      },
      "execution_count": null,
      "outputs": [
        {
          "output_type": "stream",
          "name": "stdout",
          "text": [
            "{'nome': 'Rodrigo', 'cidade': 'São José dos Campos', 'ultimo_nome': 'Rebouças'}\n"
          ]
        }
      ]
    },
    {
      "cell_type": "markdown",
      "source": [
        "#For"
      ],
      "metadata": {
        "id": "KGR8bQeU99yB"
      }
    },
    {
      "cell_type": "markdown",
      "source": [
        "##Estrutura de repetição"
      ],
      "metadata": {
        "id": "AKqLWg6v-H36"
      }
    },
    {
      "cell_type": "code",
      "source": [
        "# For Range\n",
        "for contador in range(10):\n",
        "  print(contador)"
      ],
      "metadata": {
        "colab": {
          "base_uri": "https://localhost:8080/"
        },
        "id": "K-RwmgUD_a8W",
        "outputId": "a2407ca2-7f3f-46a8-e681-06a999478514"
      },
      "execution_count": null,
      "outputs": [
        {
          "output_type": "stream",
          "name": "stdout",
          "text": [
            "0\n",
            "1\n",
            "2\n",
            "3\n",
            "4\n",
            "5\n",
            "6\n",
            "7\n",
            "8\n",
            "9\n"
          ]
        }
      ]
    },
    {
      "cell_type": "code",
      "source": [
        "# For Range + Break\n",
        "for contador in range(1000):\n",
        "  print(contador)\n",
        "  if contador == 5:\n",
        "    break"
      ],
      "metadata": {
        "colab": {
          "base_uri": "https://localhost:8080/"
        },
        "id": "acayhtTFAWJt",
        "outputId": "d2684cc4-6ca0-4800-f611-1ad279234f45"
      },
      "execution_count": null,
      "outputs": [
        {
          "output_type": "stream",
          "name": "stdout",
          "text": [
            "0\n",
            "1\n",
            "2\n",
            "3\n",
            "4\n",
            "5\n"
          ]
        }
      ]
    },
    {
      "cell_type": "code",
      "source": [
        "lista = [\"Teste1\", \"Teste2\"]"
      ],
      "metadata": {
        "id": "boQNMr-eAhjM"
      },
      "execution_count": null,
      "outputs": []
    },
    {
      "cell_type": "code",
      "source": [
        "# For Simples\n",
        "for val in lista:\n",
        "  print(val)"
      ],
      "metadata": {
        "colab": {
          "base_uri": "https://localhost:8080/"
        },
        "id": "UOnr57-PAn19",
        "outputId": "f27d7b78-77a7-4fc9-e9fa-1d9df7ddfd60"
      },
      "execution_count": null,
      "outputs": [
        {
          "output_type": "stream",
          "name": "stdout",
          "text": [
            "Teste1\n",
            "Teste2\n"
          ]
        }
      ]
    },
    {
      "cell_type": "code",
      "source": [
        "# For com Enumerate\n",
        "for i, val in enumerate(lista):\n",
        "  print(i, val)"
      ],
      "metadata": {
        "colab": {
          "base_uri": "https://localhost:8080/"
        },
        "id": "QaaV9DPNAvUv",
        "outputId": "6e9c1df3-e876-4010-adc8-de7da44db334"
      },
      "execution_count": null,
      "outputs": [
        {
          "output_type": "stream",
          "name": "stdout",
          "text": [
            "0 Teste1\n",
            "1 Teste2\n"
          ]
        }
      ]
    },
    {
      "cell_type": "markdown",
      "source": [
        "## For com operadores compostos"
      ],
      "metadata": {
        "id": "RXVYX8FTBUeq"
      }
    },
    {
      "cell_type": "code",
      "source": [
        "lista2 = [2,3,4]"
      ],
      "metadata": {
        "id": "B0_CsqUJBW1D"
      },
      "execution_count": null,
      "outputs": []
    },
    {
      "cell_type": "code",
      "source": [
        "for val in lista2:\n",
        "  val += 1\n",
        "  print(val)"
      ],
      "metadata": {
        "colab": {
          "base_uri": "https://localhost:8080/"
        },
        "id": "ViM0Wb4vCHQx",
        "outputId": "4b17220d-35cc-4a41-aad5-969249246cd1"
      },
      "execution_count": null,
      "outputs": [
        {
          "output_type": "stream",
          "name": "stdout",
          "text": [
            "3\n",
            "4\n",
            "5\n"
          ]
        }
      ]
    },
    {
      "cell_type": "code",
      "source": [
        "for val in lista2:\n",
        "  val *= 2\n",
        "  print(val)"
      ],
      "metadata": {
        "colab": {
          "base_uri": "https://localhost:8080/"
        },
        "id": "10Hrw_krCNbo",
        "outputId": "d07e3362-063f-40f9-fe2b-e9426f9e4348"
      },
      "execution_count": null,
      "outputs": [
        {
          "output_type": "stream",
          "name": "stdout",
          "text": [
            "4\n",
            "6\n",
            "8\n"
          ]
        }
      ]
    },
    {
      "cell_type": "markdown",
      "source": [
        "#While"
      ],
      "metadata": {
        "id": "lTraUMzzCck1"
      }
    },
    {
      "cell_type": "code",
      "source": [
        "val = 1\n",
        "while(val < 6):\n",
        "  val *= 2\n",
        "  print(val)"
      ],
      "metadata": {
        "colab": {
          "base_uri": "https://localhost:8080/"
        },
        "id": "HOWteyHcCd6V",
        "outputId": "ccc5c4ba-e8c5-41e2-f561-3300ca035441"
      },
      "execution_count": null,
      "outputs": [
        {
          "output_type": "stream",
          "name": "stdout",
          "text": [
            "2\n",
            "4\n",
            "8\n"
          ]
        }
      ]
    },
    {
      "cell_type": "code",
      "source": [
        "#While com else\n",
        "val = 1\n",
        "while val < 6:\n",
        "  val *= 5\n",
        "else:\n",
        "  print('Valor de val é', val)"
      ],
      "metadata": {
        "colab": {
          "base_uri": "https://localhost:8080/"
        },
        "id": "Dab5z6o-DG4y",
        "outputId": "2846f392-4386-44bf-9317-9f75e2fbcad1"
      },
      "execution_count": null,
      "outputs": [
        {
          "output_type": "stream",
          "name": "stdout",
          "text": [
            "Valor de val é 25\n"
          ]
        }
      ]
    },
    {
      "cell_type": "markdown",
      "source": [
        "#Glossário\n",
        "\n",
        "*Módulo 1*\n",
        "\n",
        "**Lembre-se dos termos mais utilizados durante o módulo**"
      ],
      "metadata": {
        "id": "gCRbJcVaWZpB"
      }
    },
    {
      "cell_type": "markdown",
      "source": [
        "##Concatenation:\n",
        "O processo de unir duas ou mais strings em uma única string. Em Python, isso é feito usando o operador `+`."
      ],
      "metadata": {
        "id": "Jw_33wE_Wdv1"
      }
    },
    {
      "cell_type": "markdown",
      "source": [
        "##Markdown:\n",
        "Uma linguagem de marcação leve usada para formatar texto em notebooks do Google Colab. Permite adicionar cabeçalhos, listas, links, imagens e outros elementos de formatação."
      ],
      "metadata": {
        "id": "eWSsUbcnWqVM"
      }
    },
    {
      "cell_type": "markdown",
      "source": [
        "##Notebook:\n",
        "Um documento interativo que pode conter código executável, visualizações, texto formatado e outros elementos. No Google Colab, notebooks são usados para escrever e executar código Python."
      ],
      "metadata": {
        "id": "WNthi6zKWvwU"
      }
    },
    {
      "cell_type": "markdown",
      "source": [
        "##Type Conversion:\n",
        "O processo de converter um valor de um tipo de dado para outro, como de string para inteiro ou de float para string. Em Python, isso pode ser feito usando funções como `int()`, `float()`, e `str()`."
      ],
      "metadata": {
        "id": "omtasHkQWycb"
      }
    },
    {
      "cell_type": "markdown",
      "source": [
        "#Boas práticas\n",
        "\n",
        "*Módulo 1*\n",
        "\n",
        "**Nesta seção você encontrará informações importantes que te ajudarão a aplicar efetivamente o que aprendeu.**"
      ],
      "metadata": {
        "id": "gmygiAmJXjId"
      }
    },
    {
      "cell_type": "markdown",
      "source": [
        "##Documentação do Código\n",
        "Documentar o código com comentários é essencial para a manutenção e clareza. Comentários ajudam outros desenvolvedores (e você mesmo no futuro) a entender a lógica e o propósito do código. Use comentários para explicar partes complexas ou importantes do código.\n",
        "\n"
      ],
      "metadata": {
        "id": "YV2TK2yJXqXi"
      }
    },
    {
      "cell_type": "markdown",
      "source": [
        "##Uso de Nomes Descritivos para Variáveis\n",
        "Utilize nomes descritivos para variáveis que reflitam seu propósito. Isso facilita a leitura e compreensão do código. Evite nomes genéricos como x ou temp a menos que sejam usados em contextos muito claros.\n",
        "\n"
      ],
      "metadata": {
        "id": "qkyrfsQaX0XN"
      }
    },
    {
      "cell_type": "markdown",
      "source": [
        "##Interação com o Usuário\n",
        "Utilize os comandos print e input para interagir com o usuário. Certifique-se de fornecer mensagens claras e informativas ao solicitar entradas e ao exibir resultados.\n"
      ],
      "metadata": {
        "id": "J33fKQ3qX583"
      }
    },
    {
      "cell_type": "markdown",
      "source": [
        "##Conversão de Tipos\n",
        "Ao trabalhar com entradas do usuário, é importante converter os tipos de dados conforme necessário. Por exemplo, se você espera um número, converta a entrada de string para um tipo numérico usando int() ou float()."
      ],
      "metadata": {
        "id": "jf6YMmExX8ds"
      }
    },
    {
      "cell_type": "markdown",
      "source": [
        "#Exemplo de utilização no mercado de trabalho:"
      ],
      "metadata": {
        "id": "Hj3-Z3ceX93U"
      }
    },
    {
      "cell_type": "markdown",
      "source": [
        "\n",
        "\n",
        "*   **Automação de Tarefas**: Analistas de dados frequentemente escrevem scripts em Python para automatizar tarefas repetitivas, como a limpeza de dados ou a geração de relatórios. A documentação e o uso de nomes descritivos são cruciais para a manutenção desses scripts.\n",
        "\n",
        "*   **Interação com Usuários**: Em projetos onde é necessário coletar dados de usuários, como em pesquisas ou formulários, a interação clara e a conversão correta de tipos garantem que os dados sejam coletados e processados corretamente.\n"
      ],
      "metadata": {
        "id": "IRk8nhyfYFMI"
      }
    },
    {
      "cell_type": "markdown",
      "source": [
        "#Exemplo de código executável (em Python) que ilustra boas práticas:"
      ],
      "metadata": {
        "id": "XqL4EBunYtG4"
      }
    },
    {
      "cell_type": "code",
      "source": [
        "#Solicita o nome do usuário e o exibe\n",
        "nome_usuario = input(\"Por favor, insira seu nome: \")\n",
        "print(\"Olá,\", nome_usuario, \"! Bem-vindo ao nosso sistema.\")\n",
        "print(f\"Olá, {nome_usuario}! Bem-vindo ao nosso sistema.\")\n",
        "\n",
        "#Solicite a idade do usuário e converte para inteiro\n",
        "\n",
        "idade_usuario = int(input(\"Por favor, insira sua idade: \"))\n",
        "\n",
        "#Verifica se o usuário é maior de idade\n",
        "if idade_usuario >= 18:\n",
        "  print(\"Você é maior de idade.\")\n",
        "else:\n",
        "  print(\"Você é menor de idade.\")"
      ],
      "metadata": {
        "colab": {
          "base_uri": "https://localhost:8080/"
        },
        "id": "i5DlPcYBYwAr",
        "outputId": "9e61d4b3-b299-46aa-d08f-34ba8466c2f7"
      },
      "execution_count": null,
      "outputs": [
        {
          "output_type": "stream",
          "name": "stdout",
          "text": [
            "Por favor, insira seu nome: Diego\n",
            "Olá, Diego ! Bem-vindo ao nosso sistema.\n",
            "Olá, Diego! Bem-vindo ao nosso sistema.\n",
            "Por favor, insira sua idade: 28\n",
            "Você é maior de idade.\n"
          ]
        }
      ]
    },
    {
      "cell_type": "markdown",
      "source": [
        "\n",
        "\n",
        "*   *input(\"Por favor, insira seu nome: \")*: Solicita ao usuário que insira seu nome e armazena a entrada na variável nome_usuario.\n",
        "\n",
        "*   *print(f\"Olá, {nome_usuario}! Bem-vindo ao nosso sistema.\")*: Exibe uma mensagem de boas-vindas ao usuário utilizando a variável nome_usuario.\n",
        "\n",
        "*   *int(input(\"Por favor, insira sua idade: \"))*: Solicita ao usuário que insira sua idade, converte a entrada de string para inteiro e armazena na variável idade_usuario.\n",
        "\n",
        "*   *if idade_usuario >= 18:* : Verifica se o usuário é maior de idade.\n",
        "\n",
        "*   *print(\"Você é maior de idade.\")*: Exibe uma mensagem se o usuário for maior de idade.\n",
        "\n",
        "*   *else:*: Bloco de código que será executado se a condição anterior não for atendida.\n",
        "\n",
        "*   *print(\"Você é menor de idade.\"):* Exibe uma mensagem se o usuário for menor de idade.\n",
        "\n",
        "\n",
        "\n",
        "\n",
        "\n"
      ],
      "metadata": {
        "id": "LKEIvdWEZf1m"
      }
    },
    {
      "cell_type": "markdown",
      "source": [
        "#De olho no erro"
      ],
      "metadata": {
        "id": "R0F0di4DlURB"
      }
    },
    {
      "cell_type": "markdown",
      "source": [
        "## Módulo 1\n",
        "*Aprenda a identificar e corrigir os erros mais comuns e torne seu código mais eficiente e confiável.*"
      ],
      "metadata": {
        "id": "fujjHnoslWOa"
      }
    },
    {
      "cell_type": "markdown",
      "source": [
        "##01 Esquecer de indentar o Código Corretamente\n",
        "\n",
        "*   **Descrição:** A indentação é crucial em Python para definir blocos de código. Esquecer de indentar corretamente pode levar a erros de sintaxe.\n",
        "\n",
        "*   **Tipo de Erro:** Erro de sintaxe.\n",
        "\n"
      ],
      "metadata": {
        "id": "FR6GWnyqlhc9"
      }
    },
    {
      "cell_type": "code",
      "source": [
        "#Exemplo:\n",
        "if True:\n",
        "print(\"Identação incorreta\")"
      ],
      "metadata": {
        "colab": {
          "base_uri": "https://localhost:8080/",
          "height": 106
        },
        "id": "N1PKKfXclvDY",
        "outputId": "a00724d9-1373-4b2e-9bf0-eb04e4e56fb0"
      },
      "execution_count": null,
      "outputs": [
        {
          "output_type": "error",
          "ename": "IndentationError",
          "evalue": "expected an indented block after 'if' statement on line 2 (<ipython-input-1-ee67e025977c>, line 3)",
          "traceback": [
            "\u001b[0;36m  File \u001b[0;32m\"<ipython-input-1-ee67e025977c>\"\u001b[0;36m, line \u001b[0;32m3\u001b[0m\n\u001b[0;31m    print(\"Identação incorreta\")\u001b[0m\n\u001b[0m    ^\u001b[0m\n\u001b[0;31mIndentationError\u001b[0m\u001b[0;31m:\u001b[0m expected an indented block after 'if' statement on line 2\n"
          ]
        }
      ]
    },
    {
      "cell_type": "code",
      "source": [
        "#Correção\n",
        "if True:\n",
        "  print(\"Identação correta\")"
      ],
      "metadata": {
        "colab": {
          "base_uri": "https://localhost:8080/"
        },
        "id": "57X8Odrbl3nk",
        "outputId": "b0073993-8e91-44ab-c305-1cc33ea58ba2"
      },
      "execution_count": null,
      "outputs": [
        {
          "output_type": "stream",
          "name": "stdout",
          "text": [
            "Identação correta\n"
          ]
        }
      ]
    },
    {
      "cell_type": "markdown",
      "source": [
        "*   **Passo 1:** Verifique se todos os blocos de código estão corretamente indentados.\n",
        "\n",
        "*   **Passo 2:** Use espaços ou tabulações de forma consistente.\n",
        "\n",
        "*   **Passo 3:** Utilize um editor de código que destaque a indentação.\n",
        "\n"
      ],
      "metadata": {
        "id": "g8R5J6fvl_dD"
      }
    },
    {
      "cell_type": "markdown",
      "source": [
        "##02 Usar o Operrador de Atribuição em vez do Operador de Igualdade.\n",
        "\n",
        "*   **Descrição:** Confundir o operador de atribuição(\"=\") com o operador de igualdade (\"==\") pode levar a resultados inesperados.\n",
        "\n",
        "*   **Tipo de Erro:** Erro lógico.\n",
        "\n"
      ],
      "metadata": {
        "id": "sSU5BTWUmLm2"
      }
    },
    {
      "cell_type": "code",
      "source": [
        "#Exemplo\n",
        "\n",
        "x = 10\n",
        "if x = 10:\n",
        "  print(\"Erro de operador\")"
      ],
      "metadata": {
        "colab": {
          "base_uri": "https://localhost:8080/",
          "height": 106
        },
        "id": "Ya_Tlm4rmo6M",
        "outputId": "0268dd2d-a1d8-45b4-968c-c31b3ef50ba3"
      },
      "execution_count": null,
      "outputs": [
        {
          "output_type": "error",
          "ename": "SyntaxError",
          "evalue": "invalid syntax. Maybe you meant '==' or ':=' instead of '='? (<ipython-input-3-6ad96e024ba5>, line 4)",
          "traceback": [
            "\u001b[0;36m  File \u001b[0;32m\"<ipython-input-3-6ad96e024ba5>\"\u001b[0;36m, line \u001b[0;32m4\u001b[0m\n\u001b[0;31m    if x = 10:\u001b[0m\n\u001b[0m       ^\u001b[0m\n\u001b[0;31mSyntaxError\u001b[0m\u001b[0;31m:\u001b[0m invalid syntax. Maybe you meant '==' or ':=' instead of '='?\n"
          ]
        }
      ]
    },
    {
      "cell_type": "code",
      "source": [
        "#Correção\n",
        "x = 10\n",
        "if x == 10:\n",
        "  print(\"Operador correto\")"
      ],
      "metadata": {
        "colab": {
          "base_uri": "https://localhost:8080/"
        },
        "id": "euo_XMi-mwND",
        "outputId": "d61eeac7-fe9d-4943-b805-2d5dc9a5de38"
      },
      "execution_count": null,
      "outputs": [
        {
          "output_type": "stream",
          "name": "stdout",
          "text": [
            "Operador correto\n"
          ]
        }
      ]
    },
    {
      "cell_type": "markdown",
      "source": [
        "*   **Passo 1:** Revise o código para garantir que '=' é usado para atribuição e '==' para comparação.\n",
        "\n",
        "*   **Passo 2:** Teste o código para verificar se as comparações estão corretas."
      ],
      "metadata": {
        "id": "vJUygJjMm3-0"
      }
    },
    {
      "cell_type": "markdown",
      "source": [
        "##03 Não Converter Tipos de Dados ao Usar 'input'.\n",
        "\n",
        "*   **Descrição:** O comando 'input' retorna uma string. Esquecerr de converter para tipo de dado apropriado pode causar erros.\n",
        "\n",
        "*   **Tipo de Erro:** Erro de tempo de execução."
      ],
      "metadata": {
        "id": "fxldsmZWnZif"
      }
    },
    {
      "cell_type": "code",
      "source": [
        "#Exemplo\n",
        "\n",
        "idade = input(\"Digite sua idade:\")\n",
        "if idade > 18:\n",
        "  print(\"Maior de idade\")"
      ],
      "metadata": {
        "colab": {
          "base_uri": "https://localhost:8080/",
          "height": 211
        },
        "id": "AK8TDkPDnwg2",
        "outputId": "597e5b8e-c8f9-4565-e2f9-6a16f3e79933"
      },
      "execution_count": null,
      "outputs": [
        {
          "name": "stdout",
          "output_type": "stream",
          "text": [
            "Digite sua idade: 28\n"
          ]
        },
        {
          "output_type": "error",
          "ename": "TypeError",
          "evalue": "'>' not supported between instances of 'str' and 'int'",
          "traceback": [
            "\u001b[0;31m---------------------------------------------------------------------------\u001b[0m",
            "\u001b[0;31mTypeError\u001b[0m                                 Traceback (most recent call last)",
            "\u001b[0;32m<ipython-input-5-31861457dd28>\u001b[0m in \u001b[0;36m<cell line: 0>\u001b[0;34m()\u001b[0m\n\u001b[1;32m      2\u001b[0m \u001b[0;34m\u001b[0m\u001b[0m\n\u001b[1;32m      3\u001b[0m \u001b[0midade\u001b[0m \u001b[0;34m=\u001b[0m \u001b[0minput\u001b[0m\u001b[0;34m(\u001b[0m\u001b[0;34m\"Digite sua idade: \"\u001b[0m\u001b[0;34m)\u001b[0m\u001b[0;34m\u001b[0m\u001b[0;34m\u001b[0m\u001b[0m\n\u001b[0;32m----> 4\u001b[0;31m \u001b[0;32mif\u001b[0m \u001b[0midade\u001b[0m \u001b[0;34m>\u001b[0m \u001b[0;36m18\u001b[0m\u001b[0;34m:\u001b[0m\u001b[0;34m\u001b[0m\u001b[0;34m\u001b[0m\u001b[0m\n\u001b[0m\u001b[1;32m      5\u001b[0m   \u001b[0mprint\u001b[0m\u001b[0;34m(\u001b[0m\u001b[0;34m\"Maior de idade\"\u001b[0m\u001b[0;34m)\u001b[0m\u001b[0;34m\u001b[0m\u001b[0;34m\u001b[0m\u001b[0m\n",
            "\u001b[0;31mTypeError\u001b[0m: '>' not supported between instances of 'str' and 'int'"
          ]
        }
      ]
    },
    {
      "cell_type": "code",
      "source": [
        "#Correção\n",
        "\n",
        "idade = int(input(\"Digite sua idade:\"))\n",
        "if idade > 18:\n",
        "  print(\"Maior de idade\")"
      ],
      "metadata": {
        "colab": {
          "base_uri": "https://localhost:8080/"
        },
        "id": "s1wQKsSnn5d9",
        "outputId": "03d55542-28e1-4b11-e6ae-2b7449ffbeec"
      },
      "execution_count": null,
      "outputs": [
        {
          "output_type": "stream",
          "name": "stdout",
          "text": [
            "Digite sua idade:28\n",
            "Maior de idade\n"
          ]
        }
      ]
    },
    {
      "cell_type": "markdown",
      "source": [
        "*   **Passo 1:** Identifique onde o 'input' é usado para capturar dados do usuário.\n",
        "\n",
        "*   **Passo 2:** Converta a entrada para o tipo de dado apropriado (por exemplo , 'int' ou 'float')\n",
        "\n"
      ],
      "metadata": {
        "id": "fofwK40ToFEu"
      }
    },
    {
      "cell_type": "markdown",
      "source": [
        "##04 Esquecer de Inicializar Variáveis\n",
        "\n",
        "*   **Descrição:** Usar variáveis antes de inicializá-las pode levar a erros de tempo de execução.\n",
        "\n",
        "*   **Tipo de Erro:** Erro de tempo de execução."
      ],
      "metadata": {
        "id": "kPXUBX5NoY05"
      }
    },
    {
      "cell_type": "code",
      "source": [
        "#Exemplo\n",
        "\n",
        "total = total + 1\n",
        "print(total)"
      ],
      "metadata": {
        "colab": {
          "base_uri": "https://localhost:8080/",
          "height": 193
        },
        "id": "EYa3thRxouUr",
        "outputId": "f6fa7039-729a-4262-d04d-67bf5e4263f8"
      },
      "execution_count": null,
      "outputs": [
        {
          "output_type": "error",
          "ename": "NameError",
          "evalue": "name 'total' is not defined",
          "traceback": [
            "\u001b[0;31m---------------------------------------------------------------------------\u001b[0m",
            "\u001b[0;31mNameError\u001b[0m                                 Traceback (most recent call last)",
            "\u001b[0;32m<ipython-input-7-77960a5c27cc>\u001b[0m in \u001b[0;36m<cell line: 0>\u001b[0;34m()\u001b[0m\n\u001b[1;32m      1\u001b[0m \u001b[0;31m#Exemplo\u001b[0m\u001b[0;34m\u001b[0m\u001b[0;34m\u001b[0m\u001b[0m\n\u001b[1;32m      2\u001b[0m \u001b[0;34m\u001b[0m\u001b[0m\n\u001b[0;32m----> 3\u001b[0;31m \u001b[0mtotal\u001b[0m \u001b[0;34m=\u001b[0m \u001b[0mtotal\u001b[0m \u001b[0;34m+\u001b[0m \u001b[0;36m1\u001b[0m\u001b[0;34m\u001b[0m\u001b[0;34m\u001b[0m\u001b[0m\n\u001b[0m\u001b[1;32m      4\u001b[0m \u001b[0mprint\u001b[0m\u001b[0;34m(\u001b[0m\u001b[0mtotal\u001b[0m\u001b[0;34m)\u001b[0m\u001b[0;34m\u001b[0m\u001b[0;34m\u001b[0m\u001b[0m\n",
            "\u001b[0;31mNameError\u001b[0m: name 'total' is not defined"
          ]
        }
      ]
    },
    {
      "cell_type": "code",
      "source": [
        "#Correção\n",
        "\n",
        "total = 0\n",
        "total = total + 1\n",
        "print(total)"
      ],
      "metadata": {
        "colab": {
          "base_uri": "https://localhost:8080/"
        },
        "id": "cccj5WLfo0_I",
        "outputId": "5ec5648a-7aac-4b27-dc51-b80867725ea0"
      },
      "execution_count": null,
      "outputs": [
        {
          "output_type": "stream",
          "name": "stdout",
          "text": [
            "1\n"
          ]
        }
      ]
    },
    {
      "cell_type": "code",
      "source": [
        "#Correção mais elaborada\n",
        "\n",
        "total = 0\n",
        "total += 1\n",
        "print(total)"
      ],
      "metadata": {
        "colab": {
          "base_uri": "https://localhost:8080/"
        },
        "id": "BCJ5Yq2qo6MB",
        "outputId": "aa2401ae-b47e-47f4-c2db-e4271b33ac37"
      },
      "execution_count": null,
      "outputs": [
        {
          "output_type": "stream",
          "name": "stdout",
          "text": [
            "1\n"
          ]
        }
      ]
    },
    {
      "cell_type": "markdown",
      "source": [
        "*   **Passo 1:** Verifique se todas as variáveis são inicializadas antes de serem usadas.\n",
        "\n",
        "*   **Passo 2:** Inicialize as variáveis com valores apropriados.\n",
        "\n"
      ],
      "metadata": {
        "id": "MBa1_RnEo_9E"
      }
    },
    {
      "cell_type": "markdown",
      "source": [
        "##05 Não Usar Parênnteses Corretamente em Expressões Lógicas.\n",
        "\n",
        "*   **Descrição:** Esqueces de usar parênteses para agrupar expressões lógicas pode levar a resultados inesperados.\n",
        "\n",
        "*   **Tipo de Erro:** Erro lógico.\n",
        "\n"
      ],
      "metadata": {
        "id": "66o39U-npRbd"
      }
    },
    {
      "cell_type": "code",
      "source": [
        "#Exemplo\n",
        "\n",
        "idade = 25\n",
        "renda = 3000\n",
        "if idade > 18 and renda > 2000 or idade < 25:\n",
        "  print(\"Aprovado\")"
      ],
      "metadata": {
        "colab": {
          "base_uri": "https://localhost:8080/"
        },
        "id": "DIoOn2EBpmtY",
        "outputId": "3bbf51af-b7a6-43d5-cedb-3c469bac883b"
      },
      "execution_count": null,
      "outputs": [
        {
          "output_type": "stream",
          "name": "stdout",
          "text": [
            "Aprovado\n"
          ]
        }
      ]
    },
    {
      "cell_type": "code",
      "source": [
        "#Correção\n",
        "\n",
        "idade = 25\n",
        "renda = 3000\n",
        "if(idade > 18 and renda > 2000) or idade < 25:\n",
        "  print(\"Aprovado\")"
      ],
      "metadata": {
        "colab": {
          "base_uri": "https://localhost:8080/"
        },
        "id": "6B3_6PC0punB",
        "outputId": "10872309-fb65-45ad-ab77-7a715527fcaf"
      },
      "execution_count": null,
      "outputs": [
        {
          "output_type": "stream",
          "name": "stdout",
          "text": [
            "Aprovado\n"
          ]
        }
      ]
    },
    {
      "cell_type": "markdown",
      "source": [
        "*   **Passo 1:** Revise as expressões lógicas para garantir que a precedência dos operadores está correta.\n",
        "\n",
        "*   **Passo 2:** Use parênteses para agrupar expressões e clarificar a lógica\n",
        "\n",
        "\n"
      ],
      "metadata": {
        "id": "2h6D5aLWqBJa"
      }
    },
    {
      "cell_type": "markdown",
      "source": [
        "# Reforce seu conhecimento"
      ],
      "metadata": {
        "id": "-OSlSTIFqvup"
      }
    },
    {
      "cell_type": "markdown",
      "source": [
        "##Antes de revisar as respostas, tente respondê-las você mesmo; Isso te ajudará a fortalecer sua compreensão. Esta é uma ótima maneira de aprender!"
      ],
      "metadata": {
        "id": "ipzWeQMEqysW"
      }
    },
    {
      "cell_type": "markdown",
      "source": [
        "##O que é o Google Colab e por que ele é utilizado no curso?\n",
        "\n",
        "O Google Colab é uma plataforma web que permite a execução de códigos Python em um ambiente virtual. Ele é utilizado no curso por ser uma ferramenta acessível e prática para iniciantes, permitindoa  criação e manipulação de notebooks, além de facilitar a execução de códigos sem a necessidade de instalação de software adicional."
      ],
      "metadata": {
        "id": "we0iMl7Tq_zL"
      }
    },
    {
      "cell_type": "markdown",
      "source": [
        "## Qual a importância de salvar o trabalho fora do Google Colab?\n",
        "\n",
        "\n",
        "É importante salvar o trabalho fora do Google Colab devido às limitações de temp das máquinas virtuais. Isso garante que você não perca seu progresso e possa continuar seu trabalho posteriormente sem interrupções."
      ],
      "metadata": {
        "id": "mEk9KqXYrtmt"
      }
    },
    {
      "cell_type": "markdown",
      "source": [
        "##Quais são os tipos de dados nativos em Python abordados no curso?\n",
        "\n",
        "Os tipos de dados nativos em Python abordados no curso incluem inteiros, floats, strings e booleanos. Cada tipo de dado é explicado em detalhes, com exemplos práticos de como utilizá-los e manipulá-los"
      ],
      "metadata": {
        "id": "hDrul47hsKbh"
      }
    },
    {
      "cell_type": "markdown",
      "source": [
        "##O que são variáveis e como elas são utilizadas em Python?\n",
        "\n",
        "Variáveis são espaços na memória que armazena dados. Em Python, elas são utilizadas para guardar valores que podem ser manupulados ao longo do código. O curso ensina como declarar variáveis, boas práticas de nomenclatura e como identificar tipos de dados utilizando a função 'type'"
      ],
      "metadata": {
        "id": "KWO_UTRFsmAr"
      }
    },
    {
      "cell_type": "markdown",
      "source": [
        "## Quais são as boas práticas recomendadas para a utilização de variáveis?\n",
        "\n",
        "As boas práticas recomendadas incluem o uso de nomes descritivos para variáveis, a diferenciação entre maiúsculas e minúsculas, e a documentação do código com comentários. Essas práticas ajudam a manter o código organizado e fácil de entender."
      ],
      "metadata": {
        "id": "c_WEbSXYtIa5"
      }
    },
    {
      "cell_type": "markdown",
      "source": [
        "##O que são strings e quais operações podem ser realizadas com elas?\n",
        "\n",
        "Strings são sequências de caracteres utilizados para representar texto. O curso aborda diversas operações com strings, como concatenação, formatação, fatiamento e métodos como 'upper', 'find' e 'replace'. Essas operações são ilustradas com exemplos práticos."
      ],
      "metadata": {
        "id": "mxP4WbFst10i"
      }
    },
    {
      "cell_type": "markdown",
      "source": [
        "##Como são utilizadas as variáveis booleanas e operadores lógicos em Python?\n",
        "\n",
        "Variáveis booleanas armazenam valores 'True' ou 'False'. O curso ensina como utilizar operadores lógicos ('and', 'or' e 'not') para realizar comparações e tomar decisões no código. Exemplos práticos, como um sistema de controle de acesso, são utilizados para ilustrar esses conceitos."
      ],
      "metadata": {
        "id": "ZTMhQIFEuvAB"
      }
    },
    {
      "cell_type": "markdown",
      "source": [
        "##O que são estruturas condicionais e como elas são utilizadas?\n",
        "\n",
        "Estruturas condicionais ('if', 'else' e 'elif') são utilizadas para executar diferentes blocos de código com base em condições específicas. O curso destaca a importância da indentação e dos testes de mesa para verificar o comportamento do código em diferentes cenários.\n"
      ],
      "metadata": {
        "id": "NkSdryAtviGI"
      }
    },
    {
      "cell_type": "markdown",
      "source": [
        "##Quais são as principais estruturas de dados abordadas no curso?\n",
        "\n",
        "As principais estruturas de dados abordadas no curso são listas, tuplas e dicionários. Cada uma dessas estruturas é discutida em termos de características, usos e exemplos práticos, ajudando os alunos a escolher a estrutura mais adequada para cada aplicação."
      ],
      "metadata": {
        "id": "1wc6Yz-JwARd"
      }
    },
    {
      "cell_type": "markdown",
      "source": [
        "##Como são utilizados os laços de repetição em Python?\n",
        "\n",
        "Laços de repetição ('for' e 'while') são utilizados para percorrer coleçoes de dados. O curso ensina como utilizar o comando 'range', operadores compostos e o 'enumerate' para obter índices ao percorrer listas. Exemplos práticos são fornecidos para ilustrar o uso desses laços."
      ],
      "metadata": {
        "id": "wIEZ82smwhSn"
      }
    }
  ]
}